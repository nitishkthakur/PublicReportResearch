{
 "cells": [
  {
   "cell_type": "code",
   "execution_count": 18,
   "id": "c0163047",
   "metadata": {},
   "outputs": [],
   "source": [
    "import pandas as pd\n",
    "import numpy as np\n",
    "from basic_ollama_agent import OllamaAgent\n",
    "import ollama\n",
    "import json\n",
    "import inspect\n",
    "from typing import List, Callable, Optional, Any, Dict\n",
    "from pydantic import BaseModel\n",
    "import matplotlib.pyplot as plt\n",
    "import seaborn as sns"
   ]
  },
  {
   "cell_type": "code",
   "execution_count": 4,
   "id": "f68404aa",
   "metadata": {},
   "outputs": [
    {
     "data": {
      "text/html": [
       "<div>\n",
       "<style scoped>\n",
       "    .dataframe tbody tr th:only-of-type {\n",
       "        vertical-align: middle;\n",
       "    }\n",
       "\n",
       "    .dataframe tbody tr th {\n",
       "        vertical-align: top;\n",
       "    }\n",
       "\n",
       "    .dataframe thead th {\n",
       "        text-align: right;\n",
       "    }\n",
       "</style>\n",
       "<table border=\"1\" class=\"dataframe\">\n",
       "  <thead>\n",
       "    <tr style=\"text-align: right;\">\n",
       "      <th></th>\n",
       "      <th>Datetime</th>\n",
       "      <th>CompanyName</th>\n",
       "      <th>TotalRevenue</th>\n",
       "      <th>InterestIncome</th>\n",
       "      <th>NonInterestIncome</th>\n",
       "      <th>InterestExpense</th>\n",
       "      <th>NetInterestIncome</th>\n",
       "      <th>ProvisionForLoanLosses</th>\n",
       "      <th>NonInterestExpense</th>\n",
       "      <th>NetIncome</th>\n",
       "      <th>EarningsPerShare</th>\n",
       "      <th>TotalAssets</th>\n",
       "      <th>TotalLoans</th>\n",
       "      <th>TotalDeposits</th>\n",
       "      <th>ShareholdersEquity</th>\n",
       "    </tr>\n",
       "  </thead>\n",
       "  <tbody>\n",
       "    <tr>\n",
       "      <th>0</th>\n",
       "      <td>2019-03-31</td>\n",
       "      <td>AMERICAN EXPRESS COMPANY</td>\n",
       "      <td>6.697000e+09</td>\n",
       "      <td>2.725000e+09</td>\n",
       "      <td>8.305000e+09</td>\n",
       "      <td>8.950000e+08</td>\n",
       "      <td>2.059000e+09</td>\n",
       "      <td>5.250000e+08</td>\n",
       "      <td>7.597000e+09</td>\n",
       "      <td>1.550000e+09</td>\n",
       "      <td>1.81</td>\n",
       "      <td>1.971930e+11</td>\n",
       "      <td>NaN</td>\n",
       "      <td>7.285700e+10</td>\n",
       "      <td>22218000000</td>\n",
       "    </tr>\n",
       "    <tr>\n",
       "      <th>1</th>\n",
       "      <td>2019-06-30</td>\n",
       "      <td>AMERICAN EXPRESS COMPANY</td>\n",
       "      <td>1.377600e+10</td>\n",
       "      <td>5.489000e+09</td>\n",
       "      <td>1.706900e+10</td>\n",
       "      <td>1.786000e+09</td>\n",
       "      <td>4.133000e+09</td>\n",
       "      <td>1.128000e+09</td>\n",
       "      <td>1.535500e+10</td>\n",
       "      <td>3.311000e+09</td>\n",
       "      <td>3.88</td>\n",
       "      <td>1.976030e+11</td>\n",
       "      <td>NaN</td>\n",
       "      <td>7.259000e+10</td>\n",
       "      <td>23092000000</td>\n",
       "    </tr>\n",
       "    <tr>\n",
       "      <th>2</th>\n",
       "      <td>2019-09-30</td>\n",
       "      <td>AMERICAN EXPRESS COMPANY</td>\n",
       "      <td>2.082700e+10</td>\n",
       "      <td>8.374000e+09</td>\n",
       "      <td>2.585500e+10</td>\n",
       "      <td>2.663000e+09</td>\n",
       "      <td>6.336000e+09</td>\n",
       "      <td>1.732000e+09</td>\n",
       "      <td>2.319900e+10</td>\n",
       "      <td>5.066000e+09</td>\n",
       "      <td>5.97</td>\n",
       "      <td>1.941840e+11</td>\n",
       "      <td>NaN</td>\n",
       "      <td>7.329800e+10</td>\n",
       "      <td>23025000000</td>\n",
       "    </tr>\n",
       "    <tr>\n",
       "      <th>3</th>\n",
       "      <td>2019-12-31</td>\n",
       "      <td>AMERICAN EXPRESS COMPANY</td>\n",
       "      <td>2.815900e+10</td>\n",
       "      <td>1.130800e+10</td>\n",
       "      <td>3.493600e+10</td>\n",
       "      <td>3.464000e+09</td>\n",
       "      <td>8.620000e+09</td>\n",
       "      <td>2.462000e+09</td>\n",
       "      <td>3.155400e+10</td>\n",
       "      <td>6.759000e+09</td>\n",
       "      <td>8.00</td>\n",
       "      <td>1.983210e+11</td>\n",
       "      <td>NaN</td>\n",
       "      <td>7.328700e+10</td>\n",
       "      <td>23071000000</td>\n",
       "    </tr>\n",
       "    <tr>\n",
       "      <th>4</th>\n",
       "      <td>2020-03-31</td>\n",
       "      <td>AMERICAN EXPRESS COMPANY</td>\n",
       "      <td>6.296000e+09</td>\n",
       "      <td>2.909000e+09</td>\n",
       "      <td>7.980000e+09</td>\n",
       "      <td>7.160000e+08</td>\n",
       "      <td>2.330000e+09</td>\n",
       "      <td>1.876000e+09</td>\n",
       "      <td>7.237000e+09</td>\n",
       "      <td>3.670000e+08</td>\n",
       "      <td>0.41</td>\n",
       "      <td>1.860600e+11</td>\n",
       "      <td>NaN</td>\n",
       "      <td>7.796200e+10</td>\n",
       "      <td>21006000000</td>\n",
       "    </tr>\n",
       "  </tbody>\n",
       "</table>\n",
       "</div>"
      ],
      "text/plain": [
       "    Datetime               CompanyName  TotalRevenue  InterestIncome  \\\n",
       "0 2019-03-31  AMERICAN EXPRESS COMPANY  6.697000e+09    2.725000e+09   \n",
       "1 2019-06-30  AMERICAN EXPRESS COMPANY  1.377600e+10    5.489000e+09   \n",
       "2 2019-09-30  AMERICAN EXPRESS COMPANY  2.082700e+10    8.374000e+09   \n",
       "3 2019-12-31  AMERICAN EXPRESS COMPANY  2.815900e+10    1.130800e+10   \n",
       "4 2020-03-31  AMERICAN EXPRESS COMPANY  6.296000e+09    2.909000e+09   \n",
       "\n",
       "   NonInterestIncome  InterestExpense  NetInterestIncome  \\\n",
       "0       8.305000e+09     8.950000e+08       2.059000e+09   \n",
       "1       1.706900e+10     1.786000e+09       4.133000e+09   \n",
       "2       2.585500e+10     2.663000e+09       6.336000e+09   \n",
       "3       3.493600e+10     3.464000e+09       8.620000e+09   \n",
       "4       7.980000e+09     7.160000e+08       2.330000e+09   \n",
       "\n",
       "   ProvisionForLoanLosses  NonInterestExpense     NetIncome  EarningsPerShare  \\\n",
       "0            5.250000e+08        7.597000e+09  1.550000e+09              1.81   \n",
       "1            1.128000e+09        1.535500e+10  3.311000e+09              3.88   \n",
       "2            1.732000e+09        2.319900e+10  5.066000e+09              5.97   \n",
       "3            2.462000e+09        3.155400e+10  6.759000e+09              8.00   \n",
       "4            1.876000e+09        7.237000e+09  3.670000e+08              0.41   \n",
       "\n",
       "    TotalAssets  TotalLoans  TotalDeposits  ShareholdersEquity  \n",
       "0  1.971930e+11         NaN   7.285700e+10         22218000000  \n",
       "1  1.976030e+11         NaN   7.259000e+10         23092000000  \n",
       "2  1.941840e+11         NaN   7.329800e+10         23025000000  \n",
       "3  1.983210e+11         NaN   7.328700e+10         23071000000  \n",
       "4  1.860600e+11         NaN   7.796200e+10         21006000000  "
      ]
     },
     "execution_count": 4,
     "metadata": {},
     "output_type": "execute_result"
    }
   ],
   "source": [
    "df = pd.read_excel(\"bank_earnings_data_2019-01-01_2025-12-31.xlsx\", sheet_name=\"Bank_Earnings_Data\")\n",
    "df.head()"
   ]
  },
  {
   "cell_type": "code",
   "execution_count": 23,
   "id": "509e4eb0",
   "metadata": {},
   "outputs": [
    {
     "name": "stdout",
     "output_type": "stream",
     "text": [
      "You are an expert Earnings Data Extractor and Analyzer. Call the appropriate functions to extract the earnings data from the DataFrame and analyze it for the companies mentioned.\n",
      "\n",
      "When the user asks to search for a company, try to map their mentioned name to a list of pre-defined companies. The allowed company names are as follows enclosed in <company> tag: <company> AMERICAN EXPRESS COMPANY, Bank of America Corporation, CAPITAL ONE FINANCIAL CORP, Citigroup Inc, Fifth Third Bancorp, Huntington Bancshares Incorporated, JPMorgan Chase & Co, KeyCorp, NORTHERN TRUST CORPORATION, PNC Financial Services Group, Inc., People's United Financial, Inc., SCHWAB CHARLES CORP, STATE STREET CORPORATION, TEGNA INC., THE BANK OF NEW YORK MELLON CORPORATION, TRUIST FINANCIAL CORPORATION, The Goldman Sachs Group, Inc., US BANCORP \\DE\\, WELLS FARGO & COMPANY/MN</company>\n",
      "\n",
      "Here are the metrics present in the data, enclosed in <column> tags: \n",
      "<columns>TotalRevenue, InterestIncome, NonInterestIncome, InterestExpense, NetInterestIncome, ProvisionForLoanLosses, NonInterestExpense, NetIncome, EarningsPerShare, TotalAssets, TotalLoans, TotalDeposits, ShareholdersEquity</columns>\n"
     ]
    }
   ],
   "source": [
    "### Generate prompt\n",
    "role = \"You are an expert Earnings Data Extractor and Analyzer. \" \n",
    "task = \"Call the appropriate functions to extract the earnings data from the DataFrame and analyze it for the companies mentioned.\\n\"\n",
    "\n",
    "context_company_names = \"\\nWhen the user asks to search for a company, try to map their mentioned name to a list of pre-defined companies. The allowed company names are as follows enclosed in <company> tag: <company> \"+ f\"{', '.join(df['CompanyName'].unique().tolist())}\" + \"</company>\\n\"\n",
    "\n",
    "Context = \"\\nHere are the metrics present in the data, enclosed in <column> tags: \\n<columns>\" + f\"{', '.join(df.columns.tolist()[2:])}\" + \"</columns>\"\n",
    "prompt = role + task + context_company_names + Context\n",
    "\n",
    "print(prompt)\n"
   ]
  },
  {
   "cell_type": "markdown",
   "id": "22ca5484",
   "metadata": {},
   "source": [
    "## Basic Agent"
   ]
  },
  {
   "cell_type": "code",
   "execution_count": 24,
   "id": "2d258e58",
   "metadata": {},
   "outputs": [
    {
     "name": "stdout",
     "output_type": "stream",
     "text": [
      "{'message': '', 'tool_calls': [{'tool': 'calculate_sum', 'arguments': {'a': '11', 'b': '22'}, 'result': '1122'}, {'tool': 'get_product', 'arguments': {'a': '11', 'b': '22'}, 'result': 242}], 'structured_output': None}\n"
     ]
    }
   ],
   "source": [
    "# Example tool functions\n",
    "def get_product(a: int, b: int) -> int:\n",
    "    \"\"\"\n",
    "    Computes the product of two numbers.\n",
    "    \"\"\"\n",
    "    return int(a) * int(b)\n",
    "\n",
    "def calculate_sum(a: int, b: int) -> int:\n",
    "    \"\"\"\n",
    "    Calculate the sum of two numbers.\n",
    "    \n",
    "    Args:\n",
    "        a: First number\n",
    "        b: Second number\n",
    "    \"\"\"\n",
    "    return a + b\n",
    "\n",
    "# Example output schema\n",
    "class WeatherResponse(BaseModel):\n",
    "    location: str\n",
    "    temperature: float\n",
    "    units: str\n",
    "    description: str\n",
    "\n",
    "# Create agent\n",
    "agent = OllamaAgent(\n",
    "    model_name=\"llama3.2:1b\",\n",
    "    tools=[get_product, calculate_sum],\n",
    "    output_schema=None\n",
    ")\n",
    "\n",
    "# Use agent\n",
    "result = agent.invoke(\"What's the Sum of 11 and 22? Also, what's the product of 11 and 22?\")\n",
    "print(result)"
   ]
  },
  {
   "cell_type": "code",
   "execution_count": null,
   "id": "0b9d3c4a",
   "metadata": {},
   "outputs": [
    {
     "data": {
      "text/plain": [
       "Timestamp('2025-03-31 00:00:00')"
      ]
     },
     "execution_count": 19,
     "metadata": {},
     "output_type": "execute_result"
    }
   ],
   "source": []
  },
  {
   "cell_type": "code",
   "execution_count": 36,
   "id": "b8b367ca",
   "metadata": {},
   "outputs": [],
   "source": [
    "def compare_metrics_latest(company_names: str, metric: str):\n",
    "    \"\"\"\n",
    "    This function compares the latest values of a specified metric for a list of companies.\n",
    "\n",
    "    Args:\n",
    "        company_names (str): Comma-separated string of company names to compare.\n",
    "        metric (str): The metric to compare, e.g., 'EPS', 'Revenue', etc.\n",
    "\n",
    "    Returns:\n",
    "        pd.DataFrame: A DataFrame containing the latest values of the specified metric for the given companies.\n",
    "    \n",
    "    Raises:\n",
    "        ValueError: If the metric is not found in the DataFrame.\n",
    "    \"\"\"\n",
    "    company_names = [name.strip() for name in company_names.split(',')]\n",
    "    latest_date = df['Datetime'].max()\n",
    "    \n",
    "    # Filter df\n",
    "    latest_data = df[df['Datetime'] == latest_date]\n",
    "\n",
    "    # Select relevant companies\n",
    "    latest_data = latest_data[latest_data['CompanyName'].isin(company_names)]\n",
    "\n",
    "    # Check if metric exists\n",
    "    if metric not in latest_data.columns:\n",
    "        raise ValueError(f\"Metric '{metric}' not found in the data.\")\n",
    "    \n",
    "    # Extract the relevant data\n",
    "    metric_data = latest_data[['CompanyName', metric]].set_index('CompanyName')\n",
    "\n",
    "    return metric_data\n",
    "\n",
    "\n",
    "\n",
    "def plot_metrics_comparison_latest(company_names: str, metric: str):\n",
    "    \"\"\"\n",
    "    This function plots the latest values of a specified metric for a list of companies.\n",
    "\n",
    "    Args:\n",
    "        company_names (str): Comma-separated string of company names to compare.\n",
    "        metric (str): The metric to compare, e.g., 'EPS', 'Revenue', etc.\n",
    "\n",
    "    Returns:\n",
    "        Matplotlib plot: A plot containing the latest values of the specified metric for the given companies.\n",
    "\n",
    "    Raises:\n",
    "        ValueError: If the metric is not found in the DataFrame.\n",
    "    \"\"\"\n",
    "    company_names = [name.strip() for name in company_names.split(',')]\n",
    "    print(company_names)\n",
    "    latest_date = df['Datetime'].max()\n",
    "    \n",
    "    # Filter df\n",
    "    latest_data = df[df['Datetime'] == latest_date]\n",
    "\n",
    "    # Select relevant companies\n",
    "    latest_data = latest_data[latest_data['CompanyName'].isin(company_names)]\n",
    "\n",
    "    # Check if metric exists\n",
    "    if metric not in latest_data.columns:\n",
    "        raise ValueError(f\"Metric '{metric}' not found in the data.\")\n",
    "    \n",
    "    # Extract the relevant data\n",
    "    metric_data = latest_data[['CompanyName', metric]].set_index('CompanyName')\n",
    "    metric_data = metric_data.sort_values(by=metric, ascending=False)\n",
    "    \n",
    "    # Plotting  \n",
    "    plt.figure(figsize=(10, 6))\n",
    "    sns.barplot(x=metric_data.index, y=metric_data[metric], palette='viridis')\n",
    "    plt.title(f'Latest {metric} Comparison for Companies')\n",
    "    plt.xlabel('Company Name')\n",
    "    plt.ylabel(metric)\n",
    "    plt.xticks(rotation=45)\n",
    "    plt.tight_layout()\n",
    "    plt.show()\n",
    "    return plt"
   ]
  },
  {
   "cell_type": "markdown",
   "id": "0dd8251b",
   "metadata": {},
   "source": []
  },
  {
   "cell_type": "code",
   "execution_count": 37,
   "id": "2af5a340",
   "metadata": {},
   "outputs": [
    {
     "name": "stdout",
     "output_type": "stream",
     "text": [
      "['WELLS FARGO & COMPANY/MN', 'JPMORGAN CHASE & CO', 'CITIGROUP INC', 'AMERICAN EXPRESS COMPANY', 'BANK OF AMERICA CORPORATION']\n"
     ]
    },
    {
     "name": "stderr",
     "output_type": "stream",
     "text": [
      "/tmp/ipykernel_21695/1708979261.py:69: FutureWarning: \n",
      "\n",
      "Passing `palette` without assigning `hue` is deprecated and will be removed in v0.14.0. Assign the `x` variable to `hue` and set `legend=False` for the same effect.\n",
      "\n",
      "  sns.barplot(x=metric_data.index, y=metric_data[metric], palette='viridis')\n"
     ]
    },
    {
     "data": {
      "image/png": "[encoded data removed]",
      "text/plain": [
       "<Figure size 1000x600 with 1 Axes>"
      ]
     },
     "metadata": {},
     "output_type": "display_data"
    },
    {
     "name": "stdout",
     "output_type": "stream",
     "text": [
      "{'message': '', 'tool_calls': [{'tool': 'plot_metrics_comparison_latest', 'arguments': {'company_names': 'WELLS FARGO & COMPANY/MN, JPMORGAN CHASE & CO, CITIGROUP INC, AMERICAN EXPRESS COMPANY, BANK OF AMERICA CORPORATION', 'metric': 'InterestIncome'}, 'result': <module 'matplotlib.pyplot' from '/home/nitish/Documents/github/PublicReportResearch/.venv/lib/python3.12/site-packages/matplotlib/pyplot.py'>}], 'structured_output': None}\n"
     ]
    }
   ],
   "source": [
    "# Create agent\n",
    "agent = OllamaAgent(\n",
    "    model_name=\"qwen2.5:7b\",\n",
    "    tools=[compare_metrics_latest, plot_metrics_comparison_latest],\n",
    "    output_schema=None\n",
    ")\n",
    "\n",
    "# Use agent\n",
    "result = agent.invoke(prompt + \"Plot the interest income of wells fargo, JP morgan, citi, american express and bank of america for the latest date.\")\n",
    "print(result)"
   ]
  },
  {
   "cell_type": "code",
   "execution_count": null,
   "id": "cc6fa36a",
   "metadata": {},
   "outputs": [],
   "source": []
  }
 ],
 "metadata": {
  "kernelspec": {
   "display_name": ".venv",
   "language": "python",
   "name": "python3"
  },
  "language_info": {
   "codemirror_mode": {
    "name": "ipython",
    "version": 3
   },
   "file_extension": ".py",
   "mimetype": "text/x-python",
   "name": "python",
   "nbconvert_exporter": "python",
   "pygments_lexer": "ipython3",
   "version": "3.12.3"
  }
 },
 "nbformat": 4,
 "nbformat_minor": 5
}
